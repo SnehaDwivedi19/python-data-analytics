{
 "cells": [
  {
   "cell_type": "code",
   "execution_count": 7,
   "metadata": {},
   "outputs": [],
   "source": [
    "from dputils.scrape import Scraper, Tag\n",
    "from pprint import pp"
   ]
  },
  {
   "cell_type": "markdown",
   "metadata": {},
   "source": [
    "Tag - It is a  class and is used to determine what to extract from the page.\n",
    "\n",
    "Scraper - It is a function which helps to extract data from the page."
   ]
  },
  {
   "cell_type": "markdown",
   "metadata": {},
   "source": []
  },
  {
   "cell_type": "code",
   "execution_count": 8,
   "metadata": {},
   "outputs": [],
   "source": [
    "url = \"https://www.flipkart.com/search?q=mobile&otracker=search&otracker1=search&marketplace=FLIPKART&as-show=on&as=off\"\n",
    "scraper = Scraper(url)"
   ]
  },
  {
   "cell_type": "code",
   "execution_count": 10,
   "metadata": {},
   "outputs": [],
   "source": [
    "data = scraper.get_repeating_date_from_page(\n",
    "    target = Tag('div', cls = \"DOjaWF YJG4Cf\"),\n",
    "    items = Tag('div', cls =\"_75nlfW\"),\n",
    "    title = Tag('div', cls =\"KzDlHZ\"),\n",
    "    price = Tag('div', cls = \"Nx9bqj _4b5DiR\")\n",
    ")"
   ]
  },
  {
   "cell_type": "code",
   "execution_count": 11,
   "metadata": {},
   "outputs": [
    {
     "name": "stdout",
     "output_type": "stream",
     "text": [
      "{'title': 'Apple iPhone 15 (Black, 128 GB)', 'price': '₹65,499'}\n",
      "{'title': 'Apple iPhone 15 (Blue, 128 GB)', 'price': '₹65,499'}\n",
      "{'title': 'Apple iPhone 15 (Pink, 128 GB)', 'price': '₹65,499'}\n",
      "{'title': 'Apple iPhone 14 Plus (Blue, 128 GB)', 'price': '₹57,499'}\n",
      "{'title': 'Apple iPhone 14 Plus (Midnight, 128 GB)', 'price': '₹57,499'}\n",
      "{'title': 'Motorola G34 5G (Ocean Green, 128 GB)', 'price': '₹11,999'}\n",
      "{'title': 'Motorola g04s (Concord Black, 64 GB)', 'price': '₹6,999'}\n",
      "{'title': 'Motorola Edge 50 Fusion (Marshmallow Blue, 256 GB)',\n",
      " 'price': '₹24,999'}\n",
      "{'title': 'Motorola g64 5G (Ice Lilac, 256 GB)', 'price': '₹15,999'}\n",
      "{'title': 'Motorola Edge 50 Fusion (Marshmallow Blue, 128 GB)',\n",
      " 'price': '₹22,999'}\n",
      "{'title': 'Apple iPhone 15 (Green, 128 GB)', 'price': '₹65,499'}\n",
      "{'title': 'Motorola Edge 50 Pro 5G with 68W Charger (Luxe Lavender, 256 GB)',\n",
      " 'price': '₹29,999'}\n",
      "{'title': 'Apple iPhone 15 Plus (Blue, 128 GB)', 'price': '₹74,999'}\n",
      "{'title': 'Motorola g64 5G (Pearl Blue, 128 GB)', 'price': '₹13,999'}\n",
      "{'title': 'Motorola g04s (Satin Blue, 64 GB)', 'price': '₹6,999'}\n",
      "{'title': 'Motorola g64 5G (Mint Green, 128 GB)', 'price': '₹13,999'}\n",
      "{'title': 'Motorola g64 5G (Mint Green, 256 GB)', 'price': '₹15,999'}\n",
      "{'title': 'Apple iPhone 13 (Midnight, 128 GB)', 'price': '₹50,499'}\n",
      "{'title': 'OPPO K12x 5G with 45W SUPERVOOC Charger In-The-Box (Midnight '\n",
      "          'Voilet, 128 GB)',\n",
      " 'price': '₹12,999'}\n",
      "{'title': 'Nokia 105 Single SIM, Keypad Mobile Phone with Wireless FM Radio',\n",
      " 'price': '₹1,241'}\n",
      "{'title': 'Apple iPhone 15 (Black, 256 GB)', 'price': '₹75,499'}\n",
      "{'title': 'Apple iPhone 15 Plus (Black, 128 GB)', 'price': '₹74,999'}\n",
      "{'title': 'Apple iPhone 13 (Blue, 128 GB)', 'price': '₹50,499'}\n",
      "{'title': 'OPPO K12x 5G with 45W SUPERVOOC Charger In-The-Box (Breeze Blue, '\n",
      "          '128 GB)',\n",
      " 'price': '₹12,999'}\n"
     ]
    }
   ],
   "source": [
    "for item in data:\n",
    "    pp(item)"
   ]
  },
  {
   "cell_type": "code",
   "execution_count": null,
   "metadata": {},
   "outputs": [],
   "source": []
  }
 ],
 "metadata": {
  "kernelspec": {
   "display_name": "base",
   "language": "python",
   "name": "python3"
  },
  "language_info": {
   "codemirror_mode": {
    "name": "ipython",
    "version": 3
   },
   "file_extension": ".py",
   "mimetype": "text/x-python",
   "name": "python",
   "nbconvert_exporter": "python",
   "pygments_lexer": "ipython3",
   "version": "3.12.4"
  }
 },
 "nbformat": 4,
 "nbformat_minor": 2
}
