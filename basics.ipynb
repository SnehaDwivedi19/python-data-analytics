{
 "cells": [
  {
   "cell_type": "code",
   "execution_count": 21,
   "metadata": {},
   "outputs": [],
   "source": [
    "a = 10.8\n",
    "b = 20\n",
    "name = \"Sneha Dwivedi\"\n",
    "city = \"Lucknow\"\n"
   ]
  },
  {
   "cell_type": "markdown",
   "metadata": {},
   "source": [
    "# operators\n",
    "- arithmetic\n",
    "- assignment\n",
    "- comparison/relational\n",
    "- logical\n",
    "- membership\n",
    "- identity "
   ]
  },
  {
   "cell_type": "markdown",
   "metadata": {},
   "source": []
  },
  {
   "cell_type": "code",
   "execution_count": 22,
   "metadata": {},
   "outputs": [
    {
     "name": "stdout",
     "output_type": "stream",
     "text": [
      "16\n",
      "4\n",
      "60\n",
      "1.6666666666666667\n",
      "1\n",
      "4\n",
      "1000000\n"
     ]
    }
   ],
   "source": [
    "# arithmetic operators\n",
    "x=10\n",
    "y=6\n",
    "print(x+y) # addition\n",
    "print(x-y) # subtraction\n",
    "print(x*y) # multiplication\n",
    "print(x/y) # division\n",
    "print(x//y) # floor division\n",
    "print(x%y) # remainder\n",
    "print(x**y) # x to the power y\n",
    "\n"
   ]
  },
  {
   "cell_type": "code",
   "execution_count": 23,
   "metadata": {},
   "outputs": [
    {
     "name": "stdout",
     "output_type": "stream",
     "text": [
      "80\n",
      "30\n",
      "10\n"
     ]
    }
   ],
   "source": [
    "# assignment operator\n",
    "a = 10\n",
    "b = a + 20\n",
    "c = a + b\n",
    "c = c + 30\n",
    "c += 10\n",
    "print(c)\n",
    "print(b)\n",
    "print(a)"
   ]
  },
  {
   "cell_type": "code",
   "execution_count": 24,
   "metadata": {},
   "outputs": [
    {
     "name": "stdout",
     "output_type": "stream",
     "text": [
      "False\n",
      "True\n",
      "False\n",
      "True\n",
      "True\n",
      "False\n"
     ]
    }
   ],
   "source": [
    "# relational/comparison operators\n",
    "print(a>b) # greater than operator\n",
    "print(a<b) # less than operator\n",
    "print(a>=b) # greater than equal to operator\n",
    "print(a<=b) # less than equal to operator\n",
    "print(a!=b) # not equal to operator\n",
    "print(a==b) # equality operator"
   ]
  },
  {
   "cell_type": "code",
   "execution_count": 25,
   "metadata": {},
   "outputs": [
    {
     "name": "stdout",
     "output_type": "stream",
     "text": [
      "True\n",
      "False\n",
      "False\n",
      "True\n",
      "False\n"
     ]
    }
   ],
   "source": [
    "name = \"sneha\"\n",
    "print(\"h\" in name)\n",
    "print(\"v\" in name)\n",
    "print(\"Z\" in name)\n",
    "nums = [10,20,30,40,50]\n",
    "print(10 in nums )\n",
    "print(100 in nums)"
   ]
  },
  {
   "cell_type": "code",
   "execution_count": 26,
   "metadata": {},
   "outputs": [
    {
     "name": "stdout",
     "output_type": "stream",
     "text": [
      "True\n"
     ]
    }
   ],
   "source": [
    "# is (identity operator)\n",
    "x=10\n",
    "y=10\n",
    "print(x is y)"
   ]
  },
  {
   "cell_type": "code",
   "execution_count": 27,
   "metadata": {},
   "outputs": [
    {
     "name": "stdout",
     "output_type": "stream",
     "text": [
      "45\n",
      "90\n",
      "900\n"
     ]
    }
   ],
   "source": [
    "print(45) # to print any number on screen\n",
    "print(34+56) # to print the sum of any two numbers\n",
    "a = 20\n",
    "b = 45\n",
    "print(a*b)"
   ]
  },
  {
   "cell_type": "code",
   "execution_count": 33,
   "metadata": {},
   "outputs": [
    {
     "name": "stdout",
     "output_type": "stream",
     "text": [
      "Result is :\n",
      "68\n"
     ]
    }
   ],
   "source": [
    "a = int(input(\"enter a number\"))\n",
    "b = int(input(\"enter another number\"))\n",
    "print(\"Result is :\")\n",
    "print(a + b)     "
   ]
  },
  {
   "cell_type": "code",
   "execution_count": 29,
   "metadata": {},
   "outputs": [
    {
     "name": "stdout",
     "output_type": "stream",
     "text": [
      "Area of sphere is 314.0\n"
     ]
    }
   ],
   "source": [
    "pi = 3.14\n",
    "r = 5\n",
    "area = 4 * pi * r**2\n",
    "print(\"Area of sphere is\", area)"
   ]
  },
  {
   "cell_type": "code",
   "execution_count": 30,
   "metadata": {},
   "outputs": [
    {
     "name": "stdout",
     "output_type": "stream",
     "text": [
      "*****\n",
      "2@2@2@2@2@2@\n"
     ]
    }
   ],
   "source": [
    "A = 1\n",
    "B = 5\n",
    "Txt = \"*\"\n",
    "print(A * Txt * B)\n",
    "\n",
    "A = \"2\"\n",
    "B = 6\n",
    "Txt = \"@\"\n",
    "print((\"2\" + \"@\") * B)"
   ]
  },
  {
   "cell_type": "code",
   "execution_count": 31,
   "metadata": {},
   "outputs": [
    {
     "name": "stdout",
     "output_type": "stream",
     "text": [
      "74.25\n",
      "1.1400000000000001\n",
      "1.0 1.6666666666666667\n",
      "-1\n"
     ]
    }
   ],
   "source": [
    "A, B = 16.5, 4.5\n",
    "C = A * B       # multiplication\n",
    "print(C)\n",
    "\n",
    "\n",
    "A,B = 5.7, 5\n",
    "C = A/B        # division\n",
    "print(C)\n",
    "\n",
    "\n",
    "A,B = 2.5, 1.5\n",
    "C = A/B         # floor division \n",
    "print(A//B, C)\n",
    "\n",
    "\n",
    "A,B = 15, -2\n",
    "C = A % B\n",
    "print(C)"
   ]
  },
  {
   "cell_type": "code",
   "execution_count": 32,
   "metadata": {},
   "outputs": [
    {
     "name": "stdout",
     "output_type": "stream",
     "text": [
      "sneha\n",
      "20\n",
      "8000.0\n"
     ]
    }
   ],
   "source": [
    "# taking input from user & printing it\n",
    "# string  \n",
    "name = input(\"name :\")\n",
    "print(name)\n",
    "\n",
    "# integer value\n",
    "Age = int (input(\"age : \"))\n",
    "print(Age)\n",
    "\n",
    "# float value\n",
    "Price = float (input(\"Price is :\"))\n",
    "print(Price)\n",
    "\n",
    "\n"
   ]
  },
  {
   "cell_type": "code",
   "execution_count": 9,
   "metadata": {},
   "outputs": [
    {
     "name": "stdout",
     "output_type": "stream",
     "text": [
      "True\n",
      "False\n"
     ]
    }
   ],
   "source": [
    "# logical operator(not)\n",
    "a = 50\n",
    "b = 40\n",
    "print(not False)     # 'not' returns the opposite value & it works on single value\n",
    "print(not(a > b)) "
   ]
  },
  {
   "cell_type": "code",
   "execution_count": 23,
   "metadata": {},
   "outputs": [
    {
     "name": "stdout",
     "output_type": "stream",
     "text": [
      "AND operator : False\n",
      "OR operator : True\n"
     ]
    }
   ],
   "source": [
    "val1 = False\n",
    "val2 = True\n",
    "print(\"AND operator :\", val1 and val2)   # and operator\n",
    "print(\"OR operator :\", val1 or val2)     # or operator"
   ]
  },
  {
   "cell_type": "code",
   "execution_count": 32,
   "metadata": {},
   "outputs": [
    {
     "name": "stdout",
     "output_type": "stream",
     "text": [
      "sum : 110\n"
     ]
    }
   ],
   "source": [
    "# wap to input 2 numbers & print their sum.\n",
    "first = int(input(\"Enter the 1st number :\"))\n",
    "second = int(input(\"Enter the 2nd number :\"))\n",
    "\n",
    "print(\"sum :\", first + second)"
   ]
  },
  {
   "cell_type": "code",
   "execution_count": 40,
   "metadata": {},
   "outputs": [
    {
     "name": "stdout",
     "output_type": "stream",
     "text": [
      "Area of a square is = 16\n"
     ]
    }
   ],
   "source": [
    "# wap to input side of a square & print its area.\n",
    "side = int(input(\"Enter the side of a square :\"))\n",
    "\n",
    "print(\"Area of a square is =\",side* side)"
   ]
  },
  {
   "cell_type": "code",
   "execution_count": 48,
   "metadata": {},
   "outputs": [
    {
     "name": "stdout",
     "output_type": "stream",
     "text": [
      "The average is = 29.65\n"
     ]
    }
   ],
   "source": [
    "# wap to input 2 floating point numbers and print their average.\n",
    "a = float(input(\"Enter 1st number :\"))\n",
    "b = float(input(\"Enter 2nd number :\"))\n",
    "\n",
    "print(\"The average is =\", (a+b)/2)"
   ]
  },
  {
   "cell_type": "code",
   "execution_count": 53,
   "metadata": {},
   "outputs": [
    {
     "name": "stdout",
     "output_type": "stream",
     "text": [
      "True\n"
     ]
    }
   ],
   "source": [
    "a = int(input(\"Enter a number :\"))\n",
    "b = int(input(\"Enter another number :\"))\n",
    "\n",
    "print(a >= b)"
   ]
  },
  {
   "cell_type": "code",
   "execution_count": null,
   "metadata": {},
   "outputs": [],
   "source": []
  },
  {
   "cell_type": "code",
   "execution_count": null,
   "metadata": {},
   "outputs": [],
   "source": []
  }
 ],
 "metadata": {
  "kernelspec": {
   "display_name": "base",
   "language": "python",
   "name": "python3"
  },
  "language_info": {
   "codemirror_mode": {
    "name": "ipython",
    "version": 3
   },
   "file_extension": ".py",
   "mimetype": "text/x-python",
   "name": "python",
   "nbconvert_exporter": "python",
   "pygments_lexer": "ipython3",
   "version": "3.12.4"
  }
 },
 "nbformat": 4,
 "nbformat_minor": 2
}
