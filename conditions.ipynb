{
 "cells": [
  {
   "cell_type": "markdown",
   "metadata": {},
   "source": [
    "conditions in python\n",
    "\n",
    "- block of code\n",
    "     \n",
    "- if condition\n",
    "- if else condition\n",
    "- if elif ladder\n",
    "- nested if else\n",
    "- short hand if else\n",
    "- match case\n"
   ]
  },
  {
   "cell_type": "code",
   "execution_count": 4,
   "metadata": {},
   "outputs": [
    {
     "name": "stdout",
     "output_type": "stream",
     "text": [
      "bye\n"
     ]
    }
   ],
   "source": [
    "# if condition\n",
    "a = -3\n",
    "if a > 5 :\n",
    "    print(\"a is greater than 5\")\n",
    "    print(\"hi\")\n",
    "print(\"bye\")"
   ]
  },
  {
   "cell_type": "code",
   "execution_count": 8,
   "metadata": {},
   "outputs": [
    {
     "name": "stdout",
     "output_type": "stream",
     "text": [
      "very good 😊\n"
     ]
    }
   ],
   "source": [
    "word = input('enter a long word')\n",
    "if len(word) > 10:\n",
    "    print(\"very good 😊\")"
   ]
  },
  {
   "cell_type": "code",
   "execution_count": 12,
   "metadata": {},
   "outputs": [
    {
     "name": "stdout",
     "output_type": "stream",
     "text": [
      "yay 100\n"
     ]
    }
   ],
   "source": [
    "n = [12,21,32,47]\n",
    "if sum(n) > 100:\n",
    "    print(\"yay 100\")\n",
    "else:\n",
    "    print(\"😡 not 100 \")"
   ]
  },
  {
   "cell_type": "code",
   "execution_count": 4,
   "metadata": {},
   "outputs": [
    {
     "name": "stdout",
     "output_type": "stream",
     "text": [
      "Grade is C\n"
     ]
    }
   ],
   "source": [
    "# if elif ladder\n",
    "marks = 67\n",
    "if marks > 85:\n",
    "    grade = \"A\"\n",
    "elif marks > 70:\n",
    "    grade = \"B\"\n",
    "elif marks > 60:\n",
    "    grade = \"C\"\n",
    "elif marks > 50:\n",
    "    grade = \"D\"\n",
    "else:\n",
    "    grade = \"F\"\n",
    "\n",
    "print(f\"Grade is {grade}\")"
   ]
  },
  {
   "cell_type": "code",
   "execution_count": 6,
   "metadata": {},
   "outputs": [
    {
     "name": "stdout",
     "output_type": "stream",
     "text": [
      "C 90 is the largest\n"
     ]
    }
   ],
   "source": [
    "# find the largest number\n",
    "a = 10\n",
    "b = 22\n",
    "c = 90\n",
    "if a > b and a > c:\n",
    "    print(f\"A {a} is the largest\")\n",
    "elif b > a and b > c:\n",
    "    print(f\"B {b} is the largest\")\n",
    "else:\n",
    "    print(f\"C {c} is the largest\")"
   ]
  },
  {
   "cell_type": "code",
   "execution_count": 12,
   "metadata": {},
   "outputs": [
    {
     "name": "stdout",
     "output_type": "stream",
     "text": [
      "Invalid username\n"
     ]
    }
   ],
   "source": [
    "# nested if else\n",
    "un = input('enter a username')\n",
    "pw = input('enter a password')\n",
    "if un != '' and pw != '':\n",
    "    if un == 'admin':\n",
    "        if pw == 'admin':\n",
    "            print(\"Welcome, Admin\")\n",
    "        else:\n",
    "                print(\"Wrong Password\")\n",
    "    else:\n",
    "                    print(\"Invalid username\")\n",
    "else:\n",
    "                        print(\"Enter valid details\")\n",
    "\n"
   ]
  },
  {
   "cell_type": "code",
   "execution_count": 28,
   "metadata": {},
   "outputs": [
    {
     "name": "stdout",
     "output_type": "stream",
     "text": [
      "✔\n",
      "✔\n"
     ]
    }
   ],
   "source": [
    "# short hand if else\n",
    "a = 56\n",
    "print(\"✔\") if a >= 10 else print(\"❌\")\n",
    "print(\"✔\" if a >= 10 else \"❌\")"
   ]
  },
  {
   "cell_type": "code",
   "execution_count": 23,
   "metadata": {},
   "outputs": [
    {
     "name": "stdout",
     "output_type": "stream",
     "text": [
      "What would you like to eat\n",
      "Menu\n",
      "1. Pizza\n",
      "2. Burger\n",
      "3. Pasta\n",
      "4. Ssndwich\n",
      "Enter a number: \n",
      "Your order is Pasta  \n",
      " total amt = 299\n"
     ]
    }
   ],
   "source": [
    "# match case (not similar to switch case)\n",
    "print(\"What would you like to eat\")\n",
    "print(\"Menu\")\n",
    "print(\"1. Pizza\")\n",
    "print(\"2. Burger\")\n",
    "print(\"3. Pasta\")\n",
    "print(\"4. Ssndwich\")\n",
    "print(\"Enter a number: \")\n",
    "ch = int(input(\">>>\"))\n",
    "match ch:\n",
    "    case 1:\n",
    "        print(\"Your order is Pizza \\n total amt = 400\")\n",
    "    case 2:\n",
    "        print(\"Your order is Burger \\n total amt = 199\")\n",
    "    case 3:\n",
    "        print(\"Your order is Pasta  \\n total amt = 299\")\n",
    "    case 4:\n",
    "        print(\"Your order is Sandwich \\n total amt = 99\")\n",
    "    case _:\n",
    "        print(\"Invalid choice\")"
   ]
  },
  {
   "cell_type": "code",
   "execution_count": 26,
   "metadata": {},
   "outputs": [
    {
     "name": "stdout",
     "output_type": "stream",
     "text": [
      "What would you like to eat\n",
      "Menu\n",
      "1. Pizza\n",
      "2. Burger\n",
      "3. Pasta\n",
      "4. Ssndwich\n",
      "Enter a number: \n",
      "Your order is Sandwich \n",
      "total amt = 99\n"
     ]
    }
   ],
   "source": [
    "print(\"What would you like to eat\")\n",
    "print(\"Menu\")\n",
    "print(\"1. Pizza\")\n",
    "print(\"2. Burger\")\n",
    "print(\"3. Pasta\")\n",
    "print(\"4. Ssndwich\")\n",
    "print(\"Enter a number: \")\n",
    "ch = int(input(\">>>\"))\n",
    "if ch == 1:\n",
    "        print(\"Your order is Pizza \\ntotal amt = 400\")\n",
    "elif ch == 2:\n",
    "        print(\"Your order is Burger \\ntotal amt = 199\")\n",
    "elif ch == 3:\n",
    "        print(\"Your order is Pasta  \\ntotal amt = 299\")\n",
    "elif ch == 4:\n",
    "        print(\"Your order is Sandwich \\ntotal amt = 99\")\n",
    "else:\n",
    "        print(\"Invalid choice\")"
   ]
  },
  {
   "cell_type": "code",
   "execution_count": null,
   "metadata": {},
   "outputs": [],
   "source": []
  },
  {
   "cell_type": "code",
   "execution_count": null,
   "metadata": {},
   "outputs": [],
   "source": []
  }
 ],
 "metadata": {
  "kernelspec": {
   "display_name": "base",
   "language": "python",
   "name": "python3"
  },
  "language_info": {
   "codemirror_mode": {
    "name": "ipython",
    "version": 3
   },
   "file_extension": ".py",
   "mimetype": "text/x-python",
   "name": "python",
   "nbconvert_exporter": "python",
   "pygments_lexer": "ipython3",
   "version": "3.12.4"
  }
 },
 "nbformat": 4,
 "nbformat_minor": 2
}
