{
 "cells": [
  {
   "cell_type": "markdown",
   "metadata": {},
   "source": [
    "# functions  in python\n",
    "- predefined functions\n",
    "  - built-in functions\n",
    "    - print(), input(), len(), type(), int(), sum()\n",
    "    \n",
    "  - modules based functions\n",
    "    - local modules\n",
    "      - math\n",
    "      - datetime\n",
    "      - os\n",
    "      - turtle\n",
    "      - random\n",
    "    - 3rd party modules\n",
    "      - numpy\n",
    "      - pandas\n",
    "      - matplotlib\n",
    "      - dputlis\n",
    "\n",
    "- user defined functions\n",
    "  - function with return value\n",
    "  - non-parameterized functions\n",
    "  - parameterized functions\n",
    "    - required parameters/named parameter\n",
    "    - default parameters\n",
    "    - variables args\n",
    "    - keyvalue variable args\n",
    "    - lambda\n",
    "    - map and filter"
   ]
  },
  {
   "cell_type": "markdown",
   "metadata": {},
   "source": [
    "# modules based function"
   ]
  },
  {
   "cell_type": "code",
   "execution_count": 2,
   "metadata": {},
   "outputs": [],
   "source": [
    "import math"
   ]
  },
  {
   "cell_type": "code",
   "execution_count": 3,
   "metadata": {},
   "outputs": [
    {
     "data": {
      "text/plain": [
       "3.141592653589793"
      ]
     },
     "execution_count": 3,
     "metadata": {},
     "output_type": "execute_result"
    }
   ],
   "source": [
    "math.pi"
   ]
  },
  {
   "cell_type": "code",
   "execution_count": 4,
   "metadata": {},
   "outputs": [
    {
     "data": {
      "text/plain": [
       "3628800"
      ]
     },
     "execution_count": 4,
     "metadata": {},
     "output_type": "execute_result"
    }
   ],
   "source": [
    "math.factorial(10)"
   ]
  },
  {
   "cell_type": "code",
   "execution_count": 5,
   "metadata": {},
   "outputs": [
    {
     "data": {
      "text/plain": [
       "93326215443944152681699238856266700490715968264381621468592963895217599993229915608941463976156518286253697920827223758251185210916864000000000000000000000000"
      ]
     },
     "execution_count": 5,
     "metadata": {},
     "output_type": "execute_result"
    }
   ],
   "source": [
    "math.factorial(100)"
   ]
  },
  {
   "cell_type": "code",
   "execution_count": 6,
   "metadata": {},
   "outputs": [
    {
     "data": {
      "text/plain": [
       "0.8414709848078965"
      ]
     },
     "execution_count": 6,
     "metadata": {},
     "output_type": "execute_result"
    }
   ],
   "source": [
    "math.sin(1)"
   ]
  },
  {
   "cell_type": "code",
   "execution_count": 7,
   "metadata": {},
   "outputs": [
    {
     "data": {
      "text/plain": [
       "3"
      ]
     },
     "execution_count": 7,
     "metadata": {},
     "output_type": "execute_result"
    }
   ],
   "source": [
    "math.floor(3.76865658789009664431) # lower value pe le jayega"
   ]
  },
  {
   "cell_type": "code",
   "execution_count": 8,
   "metadata": {},
   "outputs": [
    {
     "data": {
      "text/plain": [
       "4"
      ]
     },
     "execution_count": 8,
     "metadata": {},
     "output_type": "execute_result"
    }
   ],
   "source": [
    "math.ceil(3.129) # upper value pe le jayega"
   ]
  },
  {
   "cell_type": "code",
   "execution_count": 9,
   "metadata": {},
   "outputs": [
    {
     "data": {
      "text/plain": [
       "3.129"
      ]
     },
     "execution_count": 9,
     "metadata": {},
     "output_type": "execute_result"
    }
   ],
   "source": [
    "math.fabs(-3.129)"
   ]
  },
  {
   "cell_type": "code",
   "execution_count": 10,
   "metadata": {},
   "outputs": [],
   "source": [
    "from random import choice, randint"
   ]
  },
  {
   "cell_type": "code",
   "execution_count": 11,
   "metadata": {},
   "outputs": [
    {
     "name": "stdout",
     "output_type": "stream",
     "text": [
      "\u001b[1;31mSignature:\u001b[0m \u001b[0mchoice\u001b[0m\u001b[1;33m(\u001b[0m\u001b[0mseq\u001b[0m\u001b[1;33m)\u001b[0m\u001b[1;33m\u001b[0m\u001b[1;33m\u001b[0m\u001b[0m\n",
      "\u001b[1;31mDocstring:\u001b[0m Choose a random element from a non-empty sequence.\n",
      "\u001b[1;31mFile:\u001b[0m      c:\\users\\gallery\\miniconda3\\lib\\random.py\n",
      "\u001b[1;31mType:\u001b[0m      method"
     ]
    }
   ],
   "source": [
    "choice?"
   ]
  },
  {
   "cell_type": "code",
   "execution_count": 12,
   "metadata": {},
   "outputs": [
    {
     "name": "stdout",
     "output_type": "stream",
     "text": [
      "['🐭', '🐹', '🐼', '🦝', '🐷', '🐶', '🐸', '🙉', '🐯', '🐱']\n",
      "Your emoji is :\n",
      "🐯\n"
     ]
    }
   ],
   "source": [
    "data = ['🐭','🐹','🐼','🦝','🐷','🐶','🐸','🙉','🐯','🐱']\n",
    "print(data)\n",
    "print(\"Your emoji is :\")\n",
    "print(choice(data))"
   ]
  },
  {
   "cell_type": "code",
   "execution_count": 16,
   "metadata": {},
   "outputs": [
    {
     "name": "stdout",
     "output_type": "stream",
     "text": [
      "1\n"
     ]
    }
   ],
   "source": [
    "print(randint(1,6))"
   ]
  },
  {
   "cell_type": "code",
   "execution_count": 19,
   "metadata": {},
   "outputs": [
    {
     "name": "stdout",
     "output_type": "stream",
     "text": [
      "🦝 🙉 🐷 🐸 🐹 🐱 🐯 🐭 🐶 🐼\n",
      "🐼 🐶 🐭 🐯 🦝 🙉 🐯 🐯 🐷 🐸\n"
     ]
    }
   ],
   "source": [
    "from random import sample, choices\n",
    "out = sample(data,10)\n",
    "print(*out) # * here is a trick to unpack the list\n",
    "out2 = choices(data, k = 10)\n",
    "print(*out2)"
   ]
  },
  {
   "cell_type": "code",
   "execution_count": 20,
   "metadata": {},
   "outputs": [
    {
     "name": "stdout",
     "output_type": "stream",
     "text": [
      "🐯 🐸 🐷 🦝 🦝 🐶 🐷 🐯 🐸 🐼\n",
      "🐸 🦝 🐼 🦝 🐶 🐹 🐸 🐷 🦝 🐹\n",
      "🐼 🐸 🐯 🐶 🐶 🐯 🦝 🦝 🐶 🦝\n",
      "🐱 🐯 🐷 🐭 🐼 🙉 🐷 🐷 🐷 🐷\n",
      "🐭 🐶 🙉 🐯 🐭 🐸 🐶 🐼 🐹 🐹\n",
      "🙉 🐹 🐼 🐸 🐼 🐼 🐶 🐼 🙉 🐯\n",
      "🙉 🐷 🦝 🦝 🐹 🦝 🐹 🐭 🐹 🐭\n",
      "🦝 🐹 🐯 🐱 🙉 🐷 🐸 🐭 🐸 🐸\n",
      "🐸 🐸 🙉 🐯 🐯 🐶 🙉 🐸 🦝 🐼\n",
      "🐹 🐼 🐷 🐼 🐸 🐹 🦝 🐹 🐶 🐷\n"
     ]
    }
   ],
   "source": [
    "print(*choices(data, k=10))\n",
    "print(*choices(data, k=10))\n",
    "print(*choices(data, k=10))\n",
    "print(*choices(data, k=10))\n",
    "print(*choices(data, k=10))\n",
    "print(*choices(data, k=10))\n",
    "print(*choices(data, k=10))\n",
    "print(*choices(data, k=10))\n",
    "print(*choices(data, k=10))\n",
    "print(*choices(data, k=10))"
   ]
  },
  {
   "cell_type": "code",
   "execution_count": 21,
   "metadata": {},
   "outputs": [],
   "source": [
    "from datetime import datetime"
   ]
  },
  {
   "cell_type": "code",
   "execution_count": 22,
   "metadata": {},
   "outputs": [
    {
     "name": "stdout",
     "output_type": "stream",
     "text": [
      "2024-07-26 12:20:06.433252\n"
     ]
    }
   ],
   "source": [
    "print(datetime.now())"
   ]
  },
  {
   "cell_type": "code",
   "execution_count": 26,
   "metadata": {},
   "outputs": [
    {
     "name": "stdout",
     "output_type": "stream",
     "text": [
      "2024-07-26\n",
      "2024-07-26\n",
      "2024-07-26 12:24:37.469874\n",
      "26/07/2024\n"
     ]
    }
   ],
   "source": [
    "# date\n",
    "date = datetime.date(datetime.now())\n",
    "print(date)\n",
    "time = datetime.time(datetime.now())\n",
    "print(date)\n",
    "now = datetime.now()\n",
    "print(now)\n",
    "formatted = now.strftime(\"%d/%m/%Y\")\n",
    "print(formatted)"
   ]
  },
  {
   "cell_type": "code",
   "execution_count": null,
   "metadata": {},
   "outputs": [],
   "source": []
  }
 ],
 "metadata": {
  "kernelspec": {
   "display_name": "base",
   "language": "python",
   "name": "python3"
  },
  "language_info": {
   "codemirror_mode": {
    "name": "ipython",
    "version": 3
   },
   "file_extension": ".py",
   "mimetype": "text/x-python",
   "name": "python",
   "nbconvert_exporter": "python",
   "pygments_lexer": "ipython3",
   "version": "3.12.4"
  }
 },
 "nbformat": 4,
 "nbformat_minor": 2
}
