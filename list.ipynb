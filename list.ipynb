{
 "cells": [
  {
   "cell_type": "code",
   "execution_count": 2,
   "metadata": {},
   "outputs": [
    {
     "name": "stdout",
     "output_type": "stream",
     "text": [
      "['Chrome', 'Photos', 'Zomato', 'Swiggy', 'Uber', 'Drive', 'Instagram', 'Facebook', 'Whatsapp', 'Snapchat']\n"
     ]
    }
   ],
   "source": [
    "apps = ['Chrome','Photos','Zomato','Swiggy','Uber','Drive','Instagram','Facebook','Whatsapp','Snapchat']\n",
    "print(apps)"
   ]
  },
  {
   "cell_type": "code",
   "execution_count": 3,
   "metadata": {},
   "outputs": [
    {
     "name": "stdout",
     "output_type": "stream",
     "text": [
      "Drive\n",
      "Instagram\n",
      "Snapchat\n",
      "Chrome\n",
      "Facebook\n",
      "Drive\n",
      "Whatsapp\n"
     ]
    }
   ],
   "source": [
    "print(apps[5])\n",
    "print(apps[6])\n",
    "print(apps[9])\n",
    "print(apps[0])\n",
    "print(apps[-3])\n",
    "print(apps[-5])\n",
    "print(apps[-2])\n"
   ]
  },
  {
   "cell_type": "code",
   "execution_count": 4,
   "metadata": {},
   "outputs": [
    {
     "name": "stdout",
     "output_type": "stream",
     "text": [
      "['Chrome', 'Photos', 'Zomato', 'Swiggy']\n",
      "['Chrome', 'Photos', 'Zomato', 'Swiggy', 'Uber']\n",
      "['Drive', 'Instagram', 'Facebook', 'Whatsapp', 'Snapchat']\n",
      "['Chrome', 'Zomato', 'Uber', 'Instagram', 'Whatsapp']\n",
      "['Chrome', 'Photos', 'Zomato', 'Swiggy', 'Uber', 'Drive', 'Instagram', 'Facebook', 'Whatsapp', 'Snapchat']\n",
      "['Chrome', 'Zomato', 'Uber', 'Instagram', 'Whatsapp']\n"
     ]
    }
   ],
   "source": [
    "print(apps[0:4])\n",
    "print(apps[:5])\n",
    "print(apps[5:])\n",
    "print(apps[0:10:2])\n",
    "print(apps[:])\n",
    "print(apps[::2])"
   ]
  },
  {
   "cell_type": "code",
   "execution_count": 5,
   "metadata": {},
   "outputs": [
    {
     "name": "stdout",
     "output_type": "stream",
     "text": [
      "['Chrome', 'Photos', 'Zomato', 'Swiggy', 'Uber', 'Drive', 'Instagram', 'Facebook', 'Whatsapp', 'Snapchat']\n"
     ]
    }
   ],
   "source": [
    "print(apps)"
   ]
  },
  {
   "cell_type": "code",
   "execution_count": 6,
   "metadata": {},
   "outputs": [
    {
     "name": "stdout",
     "output_type": "stream",
     "text": [
      "['Chrome', 'Photos', 'Zomato', 'Swiggy', 'Uber', 'Drive', 'Instagram', 'Facebook', 'Whatsapp', 'Snapchat', 'Tinder']\n"
     ]
    }
   ],
   "source": [
    "apps.append('Tinder')\n",
    "print(apps)"
   ]
  },
  {
   "cell_type": "code",
   "execution_count": 7,
   "metadata": {},
   "outputs": [
    {
     "name": "stdout",
     "output_type": "stream",
     "text": [
      "['Chrome', 'Photos', 'Tinder', 'Zomato', 'Swiggy', 'Uber', 'Drive', 'Instagram', 'Facebook', 'Whatsapp', 'Snapchat', 'Tinder']\n",
      "['Chrome', 'Photos', 'Zomato', 'Swiggy', 'Uber', 'Drive', 'Instagram', 'Facebook', 'Whatsapp', 'Snapchat', 'Tinder']\n"
     ]
    }
   ],
   "source": [
    "apps.insert(2,'Tinder')\n",
    "print(apps)\n",
    "\n",
    "apps.pop(2)\n",
    "print(apps)"
   ]
  },
  {
   "cell_type": "code",
   "execution_count": 8,
   "metadata": {},
   "outputs": [
    {
     "name": "stdout",
     "output_type": "stream",
     "text": [
      "['Chrome', 'Photos', 'Zomato', 'Uber', 'Drive', 'Instagram', 'Facebook', 'Whatsapp', 'Snapchat', 'Tinder']\n"
     ]
    }
   ],
   "source": [
    "apps.pop(3)\n",
    "print(apps)\n"
   ]
  },
  {
   "cell_type": "code",
   "execution_count": 9,
   "metadata": {},
   "outputs": [
    {
     "name": "stdout",
     "output_type": "stream",
     "text": [
      "['Chrome', 'Photos', 'Zomato', 'Uber', 'Instagram', 'Facebook', 'Whatsapp', 'Snapchat', 'Tinder']\n"
     ]
    }
   ],
   "source": [
    "apps.remove('Drive')\n",
    "print(apps)"
   ]
  },
  {
   "cell_type": "code",
   "execution_count": 10,
   "metadata": {},
   "outputs": [
    {
     "name": "stdout",
     "output_type": "stream",
     "text": [
      "['Chrome', 'Facebook', 'Instagram', 'Photos', 'Snapchat', 'Tinder', 'Uber', 'Whatsapp', 'Zomato']\n"
     ]
    }
   ],
   "source": [
    "apps.sort()\n",
    "print(apps)"
   ]
  },
  {
   "cell_type": "code",
   "execution_count": 11,
   "metadata": {},
   "outputs": [
    {
     "name": "stdout",
     "output_type": "stream",
     "text": [
      "['Chrome', 'Facebook', 'Instagram', 'Photos', 'Snapchat', 'Tinder', 'Uber', 'Whatsapp', 'Zomato']\n"
     ]
    }
   ],
   "source": [
    "apps2 = apps.copy()\n",
    "print(apps2)"
   ]
  },
  {
   "cell_type": "code",
   "execution_count": 12,
   "metadata": {},
   "outputs": [
    {
     "name": "stdout",
     "output_type": "stream",
     "text": [
      "[]\n"
     ]
    }
   ],
   "source": [
    "apps.clear()\n",
    "print(apps)"
   ]
  },
  {
   "cell_type": "code",
   "execution_count": 16,
   "metadata": {},
   "outputs": [
    {
     "name": "stdout",
     "output_type": "stream",
     "text": [
      "['gpay', 'camera', 'maps', 'gpay', 'camera', 'maps', 'gpay', 'camera', 'maps', 'gpay', 'camera', 'maps']\n"
     ]
    }
   ],
   "source": [
    "apps3 = ['gpay','camera','maps']\n",
    "apps3.extend(apps2)              \n",
    "print(apps2) \n"
   ]
  },
  {
   "cell_type": "code",
   "execution_count": 17,
   "metadata": {},
   "outputs": [
    {
     "name": "stdout",
     "output_type": "stream",
     "text": [
      "['gpay', 'camera', 'maps', 'gpay', 'camera', 'maps', 'gpay', 'camera', 'maps', 'gpay', 'camera', 'maps', 'gpay', 'camera', 'maps']\n"
     ]
    }
   ],
   "source": [
    "apps2 = ['gpay','camera','maps']\n",
    "apps2.extend(apps3)\n",
    "print(apps3)"
   ]
  },
  {
   "cell_type": "markdown",
   "metadata": {},
   "source": [
    "List Comprehension\n"
   ]
  },
  {
   "cell_type": "code",
   "execution_count": 1,
   "metadata": {},
   "outputs": [
    {
     "name": "stdout",
     "output_type": "stream",
     "text": [
      "4\n",
      "16\n",
      "36\n",
      "64\n",
      "100\n"
     ]
    }
   ],
   "source": [
    "a = [2,4,6,8,10]\n",
    "for i in a:\n",
    "    print(i**2)\n"
   ]
  },
  {
   "cell_type": "code",
   "execution_count": 2,
   "metadata": {},
   "outputs": [
    {
     "name": "stdout",
     "output_type": "stream",
     "text": [
      "[4, 16, 36, 64, 100]\n"
     ]
    }
   ],
   "source": [
    "a = [2,4,6,8,10]\n",
    "lst= []\n",
    "for i in a:\n",
    "    lst.append(i**2)\n",
    "print(lst)"
   ]
  },
  {
   "cell_type": "code",
   "execution_count": 5,
   "metadata": {},
   "outputs": [
    {
     "name": "stdout",
     "output_type": "stream",
     "text": [
      "[4, 16, 36, 64, 100]\n"
     ]
    }
   ],
   "source": [
    "num = [2,4,6,8,10]\n",
    "square = [i**2 for i in num]\n",
    "print(square)"
   ]
  },
  {
   "cell_type": "code",
   "execution_count": 8,
   "metadata": {},
   "outputs": [
    {
     "name": "stdout",
     "output_type": "stream",
     "text": [
      "[4, 8, 50, 10, 34, 54, 12]\n"
     ]
    }
   ],
   "source": [
    "x = [1,4,3,5,7,5,8,50,10,34,23,54,12]\n",
    "even_nums = [num for num in x if num%2==0]\n",
    "print(even_nums)"
   ]
  },
  {
   "cell_type": "code",
   "execution_count": 9,
   "metadata": {},
   "outputs": [
    {
     "name": "stdout",
     "output_type": "stream",
     "text": [
      "['HELLO', 'MY', 'NAME', 'IS', 'JOY']\n"
     ]
    }
   ],
   "source": [
    "words = ['hello','my','name','is','Joy']\n",
    "lst =[i.upper() for i in words]\n",
    "print(lst)"
   ]
  },
  {
   "cell_type": "code",
   "execution_count": null,
   "metadata": {},
   "outputs": [],
   "source": []
  }
 ],
 "metadata": {
  "kernelspec": {
   "display_name": "base",
   "language": "python",
   "name": "python3"
  },
  "language_info": {
   "codemirror_mode": {
    "name": "ipython",
    "version": 3
   },
   "file_extension": ".py",
   "mimetype": "text/x-python",
   "name": "python",
   "nbconvert_exporter": "python",
   "pygments_lexer": "ipython3",
   "version": "3.12.4"
  }
 },
 "nbformat": 4,
 "nbformat_minor": 2
}
