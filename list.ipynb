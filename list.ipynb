{
 "cells": [
  {
   "cell_type": "code",
   "execution_count": 41,
   "metadata": {},
   "outputs": [
    {
     "name": "stdout",
     "output_type": "stream",
     "text": [
      "['Chrome', 'Photos', 'Zomato', 'Swiggy', 'Uber', 'Drive', 'Instagram', 'Facebook', 'Whatsapp', 'Snapchat']\n"
     ]
    }
   ],
   "source": [
    "apps = ['Chrome','Photos','Zomato','Swiggy','Uber','Drive','Instagram','Facebook','Whatsapp','Snapchat']\n",
    "print(apps)"
   ]
  },
  {
   "cell_type": "code",
   "execution_count": 42,
   "metadata": {},
   "outputs": [
    {
     "name": "stdout",
     "output_type": "stream",
     "text": [
      "Drive\n",
      "Instagram\n",
      "Snapchat\n",
      "Chrome\n",
      "Facebook\n",
      "Drive\n",
      "Whatsapp\n"
     ]
    }
   ],
   "source": [
    "print(apps[5])\n",
    "print(apps[6])\n",
    "print(apps[9])\n",
    "print(apps[0])\n",
    "print(apps[-3])\n",
    "print(apps[-5])\n",
    "print(apps[-2])\n"
   ]
  },
  {
   "cell_type": "code",
   "execution_count": 43,
   "metadata": {},
   "outputs": [
    {
     "name": "stdout",
     "output_type": "stream",
     "text": [
      "['Chrome', 'Photos', 'Zomato', 'Swiggy']\n",
      "['Chrome', 'Photos', 'Zomato', 'Swiggy', 'Uber']\n",
      "['Drive', 'Instagram', 'Facebook', 'Whatsapp', 'Snapchat']\n",
      "['Chrome', 'Zomato', 'Uber', 'Instagram', 'Whatsapp']\n",
      "['Chrome', 'Photos', 'Zomato', 'Swiggy', 'Uber', 'Drive', 'Instagram', 'Facebook', 'Whatsapp', 'Snapchat']\n",
      "['Chrome', 'Zomato', 'Uber', 'Instagram', 'Whatsapp']\n"
     ]
    }
   ],
   "source": [
    "print(apps[0:4])\n",
    "print(apps[:5])\n",
    "print(apps[5:])\n",
    "print(apps[0:10:2])\n",
    "print(apps[:])\n",
    "print(apps[::2])"
   ]
  },
  {
   "cell_type": "code",
   "execution_count": 44,
   "metadata": {},
   "outputs": [
    {
     "name": "stdout",
     "output_type": "stream",
     "text": [
      "['Chrome', 'Photos', 'Zomato', 'Swiggy', 'Uber', 'Drive', 'Instagram', 'Facebook', 'Whatsapp', 'Snapchat']\n"
     ]
    }
   ],
   "source": [
    "print(apps)"
   ]
  },
  {
   "cell_type": "code",
   "execution_count": 45,
   "metadata": {},
   "outputs": [
    {
     "name": "stdout",
     "output_type": "stream",
     "text": [
      "['Chrome', 'Photos', 'Zomato', 'Swiggy', 'Uber', 'Drive', 'Instagram', 'Facebook', 'Whatsapp', 'Snapchat', 'Tinder']\n"
     ]
    }
   ],
   "source": [
    "apps.append('Tinder')\n",
    "print(apps)"
   ]
  },
  {
   "cell_type": "code",
   "execution_count": 46,
   "metadata": {},
   "outputs": [
    {
     "name": "stdout",
     "output_type": "stream",
     "text": [
      "['Chrome', 'Photos', 'Tinder', 'Zomato', 'Swiggy', 'Uber', 'Drive', 'Instagram', 'Facebook', 'Whatsapp', 'Snapchat', 'Tinder']\n",
      "['Chrome', 'Photos', 'Zomato', 'Swiggy', 'Uber', 'Drive', 'Instagram', 'Facebook', 'Whatsapp', 'Snapchat', 'Tinder']\n"
     ]
    }
   ],
   "source": [
    "apps.insert(2,'Tinder')\n",
    "print(apps)\n",
    "\n",
    "apps.pop(2)\n",
    "print(apps)"
   ]
  },
  {
   "cell_type": "code",
   "execution_count": 47,
   "metadata": {},
   "outputs": [
    {
     "name": "stdout",
     "output_type": "stream",
     "text": [
      "['Chrome', 'Photos', 'Zomato', 'Uber', 'Drive', 'Instagram', 'Facebook', 'Whatsapp', 'Snapchat', 'Tinder']\n"
     ]
    }
   ],
   "source": [
    "apps.pop(3)\n",
    "print(apps)\n"
   ]
  },
  {
   "cell_type": "code",
   "execution_count": 48,
   "metadata": {},
   "outputs": [
    {
     "name": "stdout",
     "output_type": "stream",
     "text": [
      "['Chrome', 'Photos', 'Zomato', 'Uber', 'Instagram', 'Facebook', 'Whatsapp', 'Snapchat', 'Tinder']\n"
     ]
    }
   ],
   "source": [
    "apps.remove('Drive')\n",
    "print(apps)"
   ]
  },
  {
   "cell_type": "code",
   "execution_count": 49,
   "metadata": {},
   "outputs": [
    {
     "name": "stdout",
     "output_type": "stream",
     "text": [
      "['Chrome', 'Facebook', 'Instagram', 'Photos', 'Snapchat', 'Tinder', 'Uber', 'Whatsapp', 'Zomato']\n"
     ]
    }
   ],
   "source": [
    "apps.sort()\n",
    "print(apps)"
   ]
  },
  {
   "cell_type": "code",
   "execution_count": 50,
   "metadata": {},
   "outputs": [
    {
     "name": "stdout",
     "output_type": "stream",
     "text": [
      "['Chrome', 'Facebook', 'Instagram', 'Photos', 'Snapchat', 'Tinder', 'Uber', 'Whatsapp', 'Zomato']\n"
     ]
    }
   ],
   "source": [
    "apps2 = apps.copy()\n",
    "print(apps2)"
   ]
  },
  {
   "cell_type": "code",
   "execution_count": 51,
   "metadata": {},
   "outputs": [
    {
     "name": "stdout",
     "output_type": "stream",
     "text": [
      "[]\n"
     ]
    }
   ],
   "source": [
    "apps.clear()\n",
    "print(apps)"
   ]
  },
  {
   "cell_type": "code",
   "execution_count": 52,
   "metadata": {},
   "outputs": [
    {
     "name": "stdout",
     "output_type": "stream",
     "text": [
      "['gpay', 'camera', 'maps', 'gpay', 'camera', 'maps', 'gpay', 'camera', 'maps', 'gpay', 'camera', 'maps', 'gpay', 'camera', 'maps', 'Chrome', 'Facebook', 'Instagram', 'Photos', 'Snapchat', 'Tinder', 'Uber', 'Whatsapp', 'Zomato', 'gpay', 'camera', 'maps']\n"
     ]
    }
   ],
   "source": [
    "apps2 = ['gpay','camera','maps']\n",
    "apps2.extend(apps3)\n",
    "print(apps3)\n"
   ]
  },
  {
   "cell_type": "code",
   "execution_count": 53,
   "metadata": {},
   "outputs": [
    {
     "name": "stdout",
     "output_type": "stream",
     "text": [
      "['gpay', 'camera', 'maps', 'gpay', 'camera', 'maps', 'gpay', 'camera', 'maps', 'gpay', 'camera', 'maps', 'gpay', 'camera', 'maps', 'gpay', 'camera', 'maps', 'Chrome', 'Facebook', 'Instagram', 'Photos', 'Snapchat', 'Tinder', 'Uber', 'Whatsapp', 'Zomato', 'gpay', 'camera', 'maps']\n"
     ]
    }
   ],
   "source": [
    "apps3 = ['gpay','camera','maps']\n",
    "apps3.extend(apps2)\n",
    "print(apps2)"
   ]
  },
  {
   "cell_type": "code",
   "execution_count": null,
   "metadata": {},
   "outputs": [],
   "source": []
  }
 ],
 "metadata": {
  "kernelspec": {
   "display_name": "base",
   "language": "python",
   "name": "python3"
  },
  "language_info": {
   "codemirror_mode": {
    "name": "ipython",
    "version": 3
   },
   "file_extension": ".py",
   "mimetype": "text/x-python",
   "name": "python",
   "nbconvert_exporter": "python",
   "pygments_lexer": "ipython3",
   "version": "3.12.4"
  }
 },
 "nbformat": 4,
 "nbformat_minor": 2
}
